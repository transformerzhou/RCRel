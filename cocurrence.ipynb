{
 "cells": [
  {
   "cell_type": "code",
   "execution_count": null,
   "metadata": {},
   "outputs": [],
   "source": [
    "dataset_name = 'WebNLG'\n",
    "train_path = \"data/{}/train_triples.json\".format(dataset_name)\n",
    "rel_dict_path = \"data/{}/rel2id.json\".format(dataset_name)"
   ]
  },
  {
   "cell_type": "code",
   "execution_count": 2,
   "metadata": {},
   "outputs": [],
   "source": [
    "import json\n",
    "import torch\n",
    "from torch import nn\n",
    "f = json.load(open(rel_dict_path))\n",
    "num_rels = len(f[0])"
   ]
  },
  {
   "cell_type": "code",
   "execution_count": 3,
   "metadata": {},
   "outputs": [],
   "source": [
    "def co_occurance(train_path, rel_dict_path):\n",
    "    #计算关系共现矩阵\n",
    "    \n",
    "    #初始化\n",
    "    train_data = json.load(open(train_path))\n",
    "    rel_dic = json.load(open(rel_dict_path))[1]\n",
    "    co_occurance_matrix = torch.zeros([len(rel_dic), len(rel_dic)])\n",
    "    \n",
    "    #统计共现频数\n",
    "    for data_dic in train_data:\n",
    "        triple_list = data_dic['triple_list']\n",
    "        rels = [rel_dic[x[1].strip()] for x in triple_list]\n",
    "        \n",
    "        for i in range(len(rels)):\n",
    "            for j in range(i+1, len(rels)):\n",
    "                co_occurance_matrix[rels[i]][rels[j]] += 1\n",
    "                co_occurance_matrix[rels[j]][rels[i]] += 1\n",
    "    \n",
    "    return co_occurance_matrix\n",
    "\n",
    "def weight(x_ij, x_max=100):\n",
    "    if x_ij<x_max:\n",
    "        return torch.pow(x_ij/x_max, 0.75)\n",
    "    else:\n",
    "        return 1"
   ]
  },
  {
   "cell_type": "code",
   "execution_count": 4,
   "metadata": {
    "scrolled": true
   },
   "outputs": [],
   "source": [
    "co = co_occurance(train_path, rel_dict_path)\n",
    "eps = 1e-5"
   ]
  },
  {
   "cell_type": "code",
   "execution_count": 5,
   "metadata": {
    "scrolled": true
   },
   "outputs": [],
   "source": [
    "# co += eps\n",
    "# co = co/co.sum(dim=1)"
   ]
  },
  {
   "cell_type": "code",
   "execution_count": 6,
   "metadata": {},
   "outputs": [],
   "source": [
    "class RCO(nn.Module):\n",
    "    def __init__(self, num_rels, em_dim):\n",
    "        super(RCO, self).__init__()\n",
    "        self.em = nn.Embedding(num_rels, em_dim)\n",
    "        self.bias = nn.Embedding(num_rels, 1)\n",
    "    \n",
    "    def forward(self, id_pair):\n",
    "        i, j = id_pair[:,0], id_pair[:, 1]\n",
    "        wi = self.em(i)\n",
    "        wj = self.em(j)\n",
    "        bi = self.bias(i)\n",
    "        bj = self.bias(j)\n",
    "        return torch.diag(torch.matmul(wi, wj.T))+bi+bj\n",
    "        "
   ]
  },
  {
   "cell_type": "code",
   "execution_count": 7,
   "metadata": {},
   "outputs": [],
   "source": [
    "model = RCO(num_rels, 768)\n",
    "\n",
    "loss_fn = nn.MSELoss()\n",
    "optimizer = torch.optim.Adam(model.parameters(), lr=1e-3)"
   ]
  },
  {
   "cell_type": "code",
   "execution_count": 8,
   "metadata": {},
   "outputs": [],
   "source": [
    "x = []\n",
    "y = []\n",
    "for i in range(num_rels):\n",
    "    for j in range(i):\n",
    "        x.append([i,j])\n",
    "        y.append(co[i][j])\n",
    "\n",
    "x = torch.tensor(x*10)\n",
    "y = torch.tensor(y*10)\n",
    "\n",
    "from torch.utils.data import Dataset, DataLoader\n",
    "class Mydata(Dataset):\n",
    "    def __init__(self, x, y):\n",
    "        self.data = list(zip(x,y))\n",
    "        \n",
    "    def __getitem__(self, idx):\n",
    "        assert idx < len(self.data)\n",
    "        return self.data[idx]\n",
    "    def __len__(self):\n",
    "        return len(self.data)\n"
   ]
  },
  {
   "cell_type": "code",
   "execution_count": 9,
   "metadata": {},
   "outputs": [],
   "source": [
    "device=torch.device(\"cuda:0\" if torch.cuda.is_available() else \"cpu\")\n",
    "\n",
    "dataset = Mydata(x, y)\n",
    "dataloader = DataLoader(dataset, batch_size = 1, shuffle=True)"
   ]
  },
  {
   "cell_type": "code",
   "execution_count": 10,
   "metadata": {},
   "outputs": [],
   "source": [
    "def train(dataloader, model, loss_fn, optimizer):\n",
    "    model = model.to(device)\n",
    "    size = len(dataloader.dataset)\n",
    "    total_loss = []\n",
    "    for X, y in dataloader:\n",
    "        X, y = X.to(device), y.to(device)\n",
    "\n",
    "        # Compute prediction error\n",
    "        pred = model(X)\n",
    "        i, j = X[0]\n",
    "        loss = weight(co[i][j])*loss_fn(pred, y)\n",
    "#         loss = \n",
    "        # Backpropagation\n",
    "        optimizer.zero_grad()\n",
    "        loss.backward()\n",
    "        optimizer.step()\n",
    "        total_loss.append(loss.item())\n",
    "        \n",
    "    return torch.mean(torch.tensor(total_loss))"
   ]
  },
  {
   "cell_type": "code",
   "execution_count": 14,
   "metadata": {
    "scrolled": true
   },
   "outputs": [
    {
     "name": "stdout",
     "output_type": "stream",
     "text": [
      "loss: 0.187095\n",
      "loss: 0.180174\n",
      "loss: 0.186903\n",
      "loss: 0.177222\n",
      "loss: 0.161811\n",
      "loss: 0.151648\n",
      "loss: 0.152723\n",
      "loss: 0.149716\n",
      "loss: 0.143706\n",
      "loss: 0.150055\n"
     ]
    }
   ],
   "source": [
    "for epoch in range(10):\n",
    "    loss = train(dataloader, model, loss_fn, optimizer).item()\n",
    "    print(f\"loss: {loss:>7f}\")"
   ]
  },
  {
   "cell_type": "code",
   "execution_count": 15,
   "metadata": {},
   "outputs": [],
   "source": [
    "torch.save(model.em.state_dict(), 'WebNLG.em')"
   ]
  },
  {
   "cell_type": "code",
   "execution_count": null,
   "metadata": {},
   "outputs": [],
   "source": []
  }
 ],
 "metadata": {
  "kernelspec": {
   "display_name": "Python 3",
   "language": "python",
   "name": "python3"
  },
  "language_info": {
   "codemirror_mode": {
    "name": "ipython",
    "version": 3
   },
   "file_extension": ".py",
   "mimetype": "text/x-python",
   "name": "python",
   "nbconvert_exporter": "python",
   "pygments_lexer": "ipython3",
   "version": "3.8.5"
  }
 },
 "nbformat": 4,
 "nbformat_minor": 4
}
